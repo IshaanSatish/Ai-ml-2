{
  "nbformat": 4,
  "nbformat_minor": 0,
  "metadata": {
    "colab": {
      "name": "Ai_Ml_Homework2",
      "provenance": [],
      "collapsed_sections": []
    },
    "kernelspec": {
      "name": "python3",
      "display_name": "Python 3"
    }
  },
  "cells": [
    {
      "cell_type": "code",
      "metadata": {
        "id": "qIarD30TyU9e",
        "colab_type": "code",
        "colab": {}
      },
      "source": [
        "#Importing\n",
        "import pandas as pd\n",
        "import numpy as np\n",
        "import matplotlib.pyplot as plt\n",
        "import csv"
      ],
      "execution_count": 0,
      "outputs": []
    },
    {
      "cell_type": "code",
      "metadata": {
        "id": "MoqXBxdny4J4",
        "colab_type": "code",
        "colab": {}
      },
      "source": [
        "#INitialising Df\n",
        "url1 =\"https://raw.githubusercontent.com/rames4498/Certificate_Programme_in_AI_ML/master/exercises/11.2%20Chennai%20Institute%20of%20Technology_202114-11-19.csv\"\n",
        "df1 =pd.DataFrame(pd.read_csv(url1))\n",
        "url2 =\"https://raw.githubusercontent.com/rames4498/Certificate_Programme_in_AI_ML/master/exercises/11.2%20Sri%20Venkateshwara%20College%20of%20Engineering%20and%20Technology_202015-11-19.csv\"\n",
        "df2 =pd.DataFrame(pd.read_csv(url2))"
      ],
      "execution_count": 0,
      "outputs": []
    },
    {
      "cell_type": "code",
      "metadata": {
        "id": "MxV1HTUF2Ge_",
        "colab_type": "code",
        "colab": {
          "base_uri": "https://localhost:8080/",
          "height": 204
        },
        "outputId": "4f2951ef-fa51-4fdf-9927-201846a3e276"
      },
      "source": [
        "df1.head()"
      ],
      "execution_count": 7,
      "outputs": [
        {
          "output_type": "execute_result",
          "data": {
            "text/html": [
              "<div>\n",
              "<style scoped>\n",
              "    .dataframe tbody tr th:only-of-type {\n",
              "        vertical-align: middle;\n",
              "    }\n",
              "\n",
              "    .dataframe tbody tr th {\n",
              "        vertical-align: top;\n",
              "    }\n",
              "\n",
              "    .dataframe thead th {\n",
              "        text-align: right;\n",
              "    }\n",
              "</style>\n",
              "<table border=\"1\" class=\"dataframe\">\n",
              "  <thead>\n",
              "    <tr style=\"text-align: right;\">\n",
              "      <th></th>\n",
              "      <th>Name</th>\n",
              "      <th>python</th>\n",
              "      <th>python_en</th>\n",
              "      <th>mysql</th>\n",
              "      <th>computational_thinking</th>\n",
              "      <th>Previous Geekions</th>\n",
              "      <th>CodeKata Score</th>\n",
              "      <th>Department</th>\n",
              "      <th>Mobile</th>\n",
              "      <th>Email</th>\n",
              "      <th>Rising</th>\n",
              "    </tr>\n",
              "  </thead>\n",
              "  <tbody>\n",
              "    <tr>\n",
              "      <th>0</th>\n",
              "      <td>ASHOK KUMAR K</td>\n",
              "      <td>100</td>\n",
              "      <td>0</td>\n",
              "      <td>31</td>\n",
              "      <td>9</td>\n",
              "      <td>19400</td>\n",
              "      <td>19400</td>\n",
              "      <td>Electronics and Electrical Engineering</td>\n",
              "      <td>6382040562</td>\n",
              "      <td>ashokkumark.citeee2017@gmail.com</td>\n",
              "      <td>0</td>\n",
              "    </tr>\n",
              "    <tr>\n",
              "      <th>1</th>\n",
              "      <td>Chandru</td>\n",
              "      <td>0</td>\n",
              "      <td>20</td>\n",
              "      <td>0</td>\n",
              "      <td>0</td>\n",
              "      <td>14150</td>\n",
              "      <td>14490</td>\n",
              "      <td>Computer Science and Engineering</td>\n",
              "      <td>8667881378</td>\n",
              "      <td>chandrus.citcse2017@gmail.com</td>\n",
              "      <td>340</td>\n",
              "    </tr>\n",
              "    <tr>\n",
              "      <th>2</th>\n",
              "      <td>Ganesh Ramkumar R</td>\n",
              "      <td>-1</td>\n",
              "      <td>55</td>\n",
              "      <td>24</td>\n",
              "      <td>6</td>\n",
              "      <td>8790</td>\n",
              "      <td>10790</td>\n",
              "      <td>Computer Science and Engineering</td>\n",
              "      <td>9003671061</td>\n",
              "      <td>science.ganesh007@gmail.com</td>\n",
              "      <td>2000</td>\n",
              "    </tr>\n",
              "    <tr>\n",
              "      <th>3</th>\n",
              "      <td>Bodipudi Harini</td>\n",
              "      <td>-1</td>\n",
              "      <td>0</td>\n",
              "      <td>35</td>\n",
              "      <td>-1</td>\n",
              "      <td>10040</td>\n",
              "      <td>10040</td>\n",
              "      <td>Electronics and Communication Engineering</td>\n",
              "      <td>8374994636</td>\n",
              "      <td>harinib.citece2017@gmail.com</td>\n",
              "      <td>0</td>\n",
              "    </tr>\n",
              "    <tr>\n",
              "      <th>4</th>\n",
              "      <td>VIINU V P</td>\n",
              "      <td>-1</td>\n",
              "      <td>100</td>\n",
              "      <td>24</td>\n",
              "      <td>-1</td>\n",
              "      <td>9150</td>\n",
              "      <td>9150</td>\n",
              "      <td>Electronics and Electrical Engineering</td>\n",
              "      <td>9629663689</td>\n",
              "      <td>viinu07@gmail.com</td>\n",
              "      <td>0</td>\n",
              "    </tr>\n",
              "  </tbody>\n",
              "</table>\n",
              "</div>"
            ],
            "text/plain": [
              "                Name  python  ...                             Email  Rising\n",
              "0      ASHOK KUMAR K     100  ...  ashokkumark.citeee2017@gmail.com       0\n",
              "1            Chandru       0  ...     chandrus.citcse2017@gmail.com     340\n",
              "2  Ganesh Ramkumar R      -1  ...       science.ganesh007@gmail.com    2000\n",
              "3    Bodipudi Harini      -1  ...      harinib.citece2017@gmail.com       0\n",
              "4          VIINU V P      -1  ...                 viinu07@gmail.com       0\n",
              "\n",
              "[5 rows x 11 columns]"
            ]
          },
          "metadata": {
            "tags": []
          },
          "execution_count": 7
        }
      ]
    },
    {
      "cell_type": "code",
      "metadata": {
        "id": "kgFmR5FS2mZk",
        "colab_type": "code",
        "colab": {
          "base_uri": "https://localhost:8080/",
          "height": 204
        },
        "outputId": "40dddc5e-3241-42d7-e3ac-60b769df4329"
      },
      "source": [
        "df2.head()"
      ],
      "execution_count": 8,
      "outputs": [
        {
          "output_type": "execute_result",
          "data": {
            "text/html": [
              "<div>\n",
              "<style scoped>\n",
              "    .dataframe tbody tr th:only-of-type {\n",
              "        vertical-align: middle;\n",
              "    }\n",
              "\n",
              "    .dataframe tbody tr th {\n",
              "        vertical-align: top;\n",
              "    }\n",
              "\n",
              "    .dataframe thead th {\n",
              "        text-align: right;\n",
              "    }\n",
              "</style>\n",
              "<table border=\"1\" class=\"dataframe\">\n",
              "  <thead>\n",
              "    <tr style=\"text-align: right;\">\n",
              "      <th></th>\n",
              "      <th>Name</th>\n",
              "      <th>python</th>\n",
              "      <th>mysql</th>\n",
              "      <th>Previous Geekions</th>\n",
              "      <th>CodeKata Score</th>\n",
              "      <th>Department</th>\n",
              "      <th>Mobile</th>\n",
              "      <th>Email</th>\n",
              "      <th>Rising</th>\n",
              "    </tr>\n",
              "  </thead>\n",
              "  <tbody>\n",
              "    <tr>\n",
              "      <th>0</th>\n",
              "      <td>A.Dharani</td>\n",
              "      <td>82.0</td>\n",
              "      <td>20.0</td>\n",
              "      <td>24500</td>\n",
              "      <td>24500</td>\n",
              "      <td>Computer Science and Engineering</td>\n",
              "      <td>8056669928</td>\n",
              "      <td>dharanianbu74@gmail.com</td>\n",
              "      <td>0</td>\n",
              "    </tr>\n",
              "    <tr>\n",
              "      <th>1</th>\n",
              "      <td>V.JEEVITHA</td>\n",
              "      <td>82.0</td>\n",
              "      <td>20.0</td>\n",
              "      <td>21740</td>\n",
              "      <td>21740</td>\n",
              "      <td>Computer Science and Engineering</td>\n",
              "      <td>9655705598</td>\n",
              "      <td>vjeevitha1998@gmail.com</td>\n",
              "      <td>0</td>\n",
              "    </tr>\n",
              "    <tr>\n",
              "      <th>2</th>\n",
              "      <td>HEMAVATHI.R</td>\n",
              "      <td>100.0</td>\n",
              "      <td>100.0</td>\n",
              "      <td>19680</td>\n",
              "      <td>19680</td>\n",
              "      <td>Computer Science and Engineering</td>\n",
              "      <td>7558186924</td>\n",
              "      <td>hemaravi0499@gmail.com</td>\n",
              "      <td>0</td>\n",
              "    </tr>\n",
              "    <tr>\n",
              "      <th>3</th>\n",
              "      <td>Mugunthan S</td>\n",
              "      <td>100.0</td>\n",
              "      <td>47.0</td>\n",
              "      <td>10610</td>\n",
              "      <td>10610</td>\n",
              "      <td>Computer Science and Engineering</td>\n",
              "      <td>7094532287</td>\n",
              "      <td>mugunthans718@gmail.com</td>\n",
              "      <td>0</td>\n",
              "    </tr>\n",
              "    <tr>\n",
              "      <th>4</th>\n",
              "      <td>Sathammai.S</td>\n",
              "      <td>100.0</td>\n",
              "      <td>8.0</td>\n",
              "      <td>8980</td>\n",
              "      <td>8980</td>\n",
              "      <td>Computer Science and Engineering</td>\n",
              "      <td>6374336788</td>\n",
              "      <td>vinayagar2324@gmail.com</td>\n",
              "      <td>0</td>\n",
              "    </tr>\n",
              "  </tbody>\n",
              "</table>\n",
              "</div>"
            ],
            "text/plain": [
              "          Name  python  mysql  ...      Mobile                    Email Rising\n",
              "0    A.Dharani    82.0   20.0  ...  8056669928  dharanianbu74@gmail.com      0\n",
              "1  V.JEEVITHA     82.0   20.0  ...  9655705598  vjeevitha1998@gmail.com      0\n",
              "2  HEMAVATHI.R   100.0  100.0  ...  7558186924   hemaravi0499@gmail.com      0\n",
              "3  Mugunthan S   100.0   47.0  ...  7094532287  mugunthans718@gmail.com      0\n",
              "4  Sathammai.S   100.0    8.0  ...  6374336788  vinayagar2324@gmail.com      0\n",
              "\n",
              "[5 rows x 9 columns]"
            ]
          },
          "metadata": {
            "tags": []
          },
          "execution_count": 8
        }
      ]
    },
    {
      "cell_type": "code",
      "metadata": {
        "id": "awSz1qjZ2o9X",
        "colab_type": "code",
        "colab": {
          "base_uri": "https://localhost:8080/",
          "height": 34
        },
        "outputId": "205633ab-e081-4972-917d-e7af16a87818"
      },
      "source": [
        "#Getting column names\n",
        "colNames=list()\n",
        "for header in df1.columns:\n",
        "    colNames.append(header)\n",
        "print(colNames)"
      ],
      "execution_count": 16,
      "outputs": [
        {
          "output_type": "stream",
          "text": [
            "['Name', 'python', 'python_en', 'mysql', 'computational_thinking', 'Previous Geekions', 'CodeKata Score', 'Department', 'Mobile', 'Email', 'Rising']\n"
          ],
          "name": "stdout"
        }
      ]
    },
    {
      "cell_type": "code",
      "metadata": {
        "id": "H-DxX6Bg4SX7",
        "colab_type": "code",
        "colab": {}
      },
      "source": [
        "#transferring columns to new dataframes\n",
        "reached_df=pd.DataFrame(columns=colNames)\n",
        "needs_df=pd.DataFrame(columns=colNames)\n",
        "usatisfactory_df=pd.DataFrame(columns=colNames)"
      ],
      "execution_count": 0,
      "outputs": []
    },
    {
      "cell_type": "code",
      "metadata": {
        "id": "d6EJ6k0553Fd",
        "colab_type": "code",
        "colab": {}
      },
      "source": [
        "#adding valuse to new dataframes based on requirements\n",
        "rowNo=0\n",
        "for score in df1['CodeKata Score']:\n",
        "    if score<7000:\n",
        "        usatisfactory_df=usatisfactory_df.append(df1.iloc[rowNo])\n",
        "    elif score<10000:\n",
        "        needs_df=needs_df.append(df1.iloc[rowNo])\n",
        "    elif score<15000:\n",
        "        reached_df=reached_df.append(df1.iloc[rowNo])\n",
        "    rowNo+=1"
      ],
      "execution_count": 0,
      "outputs": []
    },
    {
      "cell_type": "code",
      "metadata": {
        "id": "eLdRO5IF6otx",
        "colab_type": "code",
        "colab": {}
      },
      "source": [
        "#Coverting dataframes  to csv\n",
        "usatisfactory_df.to_csv('usatisfactory_df.csv')\n",
        "reached_df.to_csv('reached_df.csv')\n",
        "needs_df.to_csv('needs_df.csv')"
      ],
      "execution_count": 0,
      "outputs": []
    },
    {
      "cell_type": "code",
      "metadata": {
        "id": "3mHBQ0D26w0O",
        "colab_type": "code",
        "colab": {
          "base_uri": "https://localhost:8080/",
          "height": 85
        },
        "outputId": "91d10e3d-bd1c-41f8-e844-0d9740223ee1"
      },
      "source": [
        "#comparing week averages\n",
        "print(\"This week average is :\")\n",
        "print(df1['CodeKata Score'].mean())\n",
        "print(\"while last weeks average is:\")\n",
        "print(df1['Previous Geekions'].mean())"
      ],
      "execution_count": 25,
      "outputs": [
        {
          "output_type": "stream",
          "text": [
            "This week average is :\n",
            "6801.428571428572\n",
            "while last weeks average is:\n",
            "6093.142857142857\n"
          ],
          "name": "stdout"
        }
      ]
    },
    {
      "cell_type": "code",
      "metadata": {
        "id": "e4DNw0Dk7497",
        "colab_type": "code",
        "colab": {
          "base_uri": "https://localhost:8080/",
          "height": 34
        },
        "outputId": "42f42778-423d-4931-d0e6-42959d1dbd31"
      },
      "source": [
        "print(\"No of students participated =\",len(df1))"
      ],
      "execution_count": 27,
      "outputs": [
        {
          "output_type": "stream",
          "text": [
            "No of students participated = 35\n"
          ],
          "name": "stdout"
        }
      ]
    },
    {
      "cell_type": "code",
      "metadata": {
        "id": "ErV29mh99LdY",
        "colab_type": "code",
        "colab": {
          "base_uri": "https://localhost:8080/",
          "height": 142
        },
        "outputId": "183d00ca-74e1-4060-c9d0-3e5989ebba72"
      },
      "source": [
        "#Getting top 3 rising stars\n",
        "df1=df1.sort_values('Rising',ascending=False)\n",
        "\n",
        "df1 = pd.DataFrame(df1) \n",
        "df1.head(3)\n"
      ],
      "execution_count": 31,
      "outputs": [
        {
          "output_type": "execute_result",
          "data": {
            "text/html": [
              "<div>\n",
              "<style scoped>\n",
              "    .dataframe tbody tr th:only-of-type {\n",
              "        vertical-align: middle;\n",
              "    }\n",
              "\n",
              "    .dataframe tbody tr th {\n",
              "        vertical-align: top;\n",
              "    }\n",
              "\n",
              "    .dataframe thead th {\n",
              "        text-align: right;\n",
              "    }\n",
              "</style>\n",
              "<table border=\"1\" class=\"dataframe\">\n",
              "  <thead>\n",
              "    <tr style=\"text-align: right;\">\n",
              "      <th></th>\n",
              "      <th>Name</th>\n",
              "      <th>python</th>\n",
              "      <th>python_en</th>\n",
              "      <th>mysql</th>\n",
              "      <th>computational_thinking</th>\n",
              "      <th>Previous Geekions</th>\n",
              "      <th>CodeKata Score</th>\n",
              "      <th>Department</th>\n",
              "      <th>Mobile</th>\n",
              "      <th>Email</th>\n",
              "      <th>Rising</th>\n",
              "    </tr>\n",
              "  </thead>\n",
              "  <tbody>\n",
              "    <tr>\n",
              "      <th>8</th>\n",
              "      <td>shifak N</td>\n",
              "      <td>58</td>\n",
              "      <td>0</td>\n",
              "      <td>0</td>\n",
              "      <td>0</td>\n",
              "      <td>5180</td>\n",
              "      <td>8320</td>\n",
              "      <td>Electronics and Electrical Engineering</td>\n",
              "      <td>9176141671</td>\n",
              "      <td>rickzzshifak@gmail.com</td>\n",
              "      <td>3140</td>\n",
              "    </tr>\n",
              "    <tr>\n",
              "      <th>2</th>\n",
              "      <td>Ganesh Ramkumar R</td>\n",
              "      <td>-1</td>\n",
              "      <td>55</td>\n",
              "      <td>24</td>\n",
              "      <td>6</td>\n",
              "      <td>8790</td>\n",
              "      <td>10790</td>\n",
              "      <td>Computer Science and Engineering</td>\n",
              "      <td>9003671061</td>\n",
              "      <td>science.ganesh007@gmail.com</td>\n",
              "      <td>2000</td>\n",
              "    </tr>\n",
              "    <tr>\n",
              "      <th>18</th>\n",
              "      <td>Narasimhan Y L</td>\n",
              "      <td>-1</td>\n",
              "      <td>-1</td>\n",
              "      <td>0</td>\n",
              "      <td>0</td>\n",
              "      <td>4800</td>\n",
              "      <td>6800</td>\n",
              "      <td>Computer Science and Engineering</td>\n",
              "      <td>9182276881</td>\n",
              "      <td>lakshminarasimhany@gmail.com</td>\n",
              "      <td>2000</td>\n",
              "    </tr>\n",
              "  </tbody>\n",
              "</table>\n",
              "</div>"
            ],
            "text/plain": [
              "                 Name  python  ...                         Email  Rising\n",
              "8            shifak N      58  ...        rickzzshifak@gmail.com    3140\n",
              "2   Ganesh Ramkumar R      -1  ...   science.ganesh007@gmail.com    2000\n",
              "18     Narasimhan Y L      -1  ...  lakshminarasimhany@gmail.com    2000\n",
              "\n",
              "[3 rows x 11 columns]"
            ]
          },
          "metadata": {
            "tags": []
          },
          "execution_count": 31
        }
      ]
    },
    {
      "cell_type": "code",
      "metadata": {
        "id": "unHGEknZ_Qgx",
        "colab_type": "code",
        "colab": {
          "base_uri": "https://localhost:8080/",
          "height": 142
        },
        "outputId": "91cf7036-af73-4ccc-9a44-e1b70637e90b"
      },
      "source": [
        "#Getting top 3 shining stars\n",
        "df1=df1.sort_values('CodeKata Score',ascending=False)\n",
        "df1 = pd.DataFrame(df1) \n",
        "df1.head(3)\n"
      ],
      "execution_count": 32,
      "outputs": [
        {
          "output_type": "execute_result",
          "data": {
            "text/html": [
              "<div>\n",
              "<style scoped>\n",
              "    .dataframe tbody tr th:only-of-type {\n",
              "        vertical-align: middle;\n",
              "    }\n",
              "\n",
              "    .dataframe tbody tr th {\n",
              "        vertical-align: top;\n",
              "    }\n",
              "\n",
              "    .dataframe thead th {\n",
              "        text-align: right;\n",
              "    }\n",
              "</style>\n",
              "<table border=\"1\" class=\"dataframe\">\n",
              "  <thead>\n",
              "    <tr style=\"text-align: right;\">\n",
              "      <th></th>\n",
              "      <th>Name</th>\n",
              "      <th>python</th>\n",
              "      <th>python_en</th>\n",
              "      <th>mysql</th>\n",
              "      <th>computational_thinking</th>\n",
              "      <th>Previous Geekions</th>\n",
              "      <th>CodeKata Score</th>\n",
              "      <th>Department</th>\n",
              "      <th>Mobile</th>\n",
              "      <th>Email</th>\n",
              "      <th>Rising</th>\n",
              "    </tr>\n",
              "  </thead>\n",
              "  <tbody>\n",
              "    <tr>\n",
              "      <th>0</th>\n",
              "      <td>ASHOK KUMAR K</td>\n",
              "      <td>100</td>\n",
              "      <td>0</td>\n",
              "      <td>31</td>\n",
              "      <td>9</td>\n",
              "      <td>19400</td>\n",
              "      <td>19400</td>\n",
              "      <td>Electronics and Electrical Engineering</td>\n",
              "      <td>6382040562</td>\n",
              "      <td>ashokkumark.citeee2017@gmail.com</td>\n",
              "      <td>0</td>\n",
              "    </tr>\n",
              "    <tr>\n",
              "      <th>1</th>\n",
              "      <td>Chandru</td>\n",
              "      <td>0</td>\n",
              "      <td>20</td>\n",
              "      <td>0</td>\n",
              "      <td>0</td>\n",
              "      <td>14150</td>\n",
              "      <td>14490</td>\n",
              "      <td>Computer Science and Engineering</td>\n",
              "      <td>8667881378</td>\n",
              "      <td>chandrus.citcse2017@gmail.com</td>\n",
              "      <td>340</td>\n",
              "    </tr>\n",
              "    <tr>\n",
              "      <th>2</th>\n",
              "      <td>Ganesh Ramkumar R</td>\n",
              "      <td>-1</td>\n",
              "      <td>55</td>\n",
              "      <td>24</td>\n",
              "      <td>6</td>\n",
              "      <td>8790</td>\n",
              "      <td>10790</td>\n",
              "      <td>Computer Science and Engineering</td>\n",
              "      <td>9003671061</td>\n",
              "      <td>science.ganesh007@gmail.com</td>\n",
              "      <td>2000</td>\n",
              "    </tr>\n",
              "  </tbody>\n",
              "</table>\n",
              "</div>"
            ],
            "text/plain": [
              "                Name  python  ...                             Email  Rising\n",
              "0      ASHOK KUMAR K     100  ...  ashokkumark.citeee2017@gmail.com       0\n",
              "1            Chandru       0  ...     chandrus.citcse2017@gmail.com     340\n",
              "2  Ganesh Ramkumar R      -1  ...       science.ganesh007@gmail.com    2000\n",
              "\n",
              "[3 rows x 11 columns]"
            ]
          },
          "metadata": {
            "tags": []
          },
          "execution_count": 32
        }
      ]
    },
    {
      "cell_type": "code",
      "metadata": {
        "id": "OE8_YFDbBEou",
        "colab_type": "code",
        "colab": {}
      },
      "source": [
        "#Preparing data for pie chart\n",
        "cse=df1.loc[df1[\"Department\"]=='Computer Science and Engineering']\n",
        "ee=df1.loc[df1[\"Department\"]=='Electronics and Electrical Engineering']\n",
        "ec=df1.loc[df1['Department']=='Electronics and Communication Engineering']"
      ],
      "execution_count": 0,
      "outputs": []
    },
    {
      "cell_type": "code",
      "metadata": {
        "id": "_VeNdGIhBvx7",
        "colab_type": "code",
        "colab": {}
      },
      "source": [
        "#Finishing required paramenters for pie chart\n",
        "data=[cse['CodeKata Score'].mean(),ee['CodeKata Score'].mean(),ec['CodeKata Score'].mean()]\n",
        "labels=['Computer Science and Engineering','Electronics and Electrical Engineering','Electronics and Communication Engineering']"
      ],
      "execution_count": 0,
      "outputs": []
    },
    {
      "cell_type": "code",
      "metadata": {
        "id": "uwWOJh3BB8xz",
        "colab_type": "code",
        "colab": {
          "base_uri": "https://localhost:8080/",
          "height": 350
        },
        "outputId": "b57376a5-91a6-4cce-c462-d82b2003a6a4"
      },
      "source": [
        "#Displaying pie chart\n",
        "plt.pie(data,labels=labels)"
      ],
      "execution_count": 40,
      "outputs": [
        {
          "output_type": "execute_result",
          "data": {
            "text/plain": [
              "([<matplotlib.patches.Wedge at 0x7fcefa661128>,\n",
              "  <matplotlib.patches.Wedge at 0x7fcefa661630>,\n",
              "  <matplotlib.patches.Wedge at 0x7fcefa661b38>],\n",
              " [Text(0.7044323156400554, 0.8448521247425431, 'Computer Science and Engineering'),\n",
              "  Text(-1.0964542231248986, -0.08825041978129852, 'Electronics and Electrical Engineering'),\n",
              "  Text(0.7699420555826483, -0.7856139198392339, 'Electronics and Communication Engineering')])"
            ]
          },
          "metadata": {
            "tags": []
          },
          "execution_count": 40
        },
        {
          "output_type": "display_data",
          "data": {
            "image/png": "[encoded data removed]",
            "text/plain": [
              "<Figure size 432x288 with 1 Axes>"
            ]
          },
          "metadata": {
            "tags": []
          }
        }
      ]
    },
    {
      "cell_type": "code",
      "metadata": {
        "id": "pL5IoqcjCMT7",
        "colab_type": "code",
        "colab": {}
      },
      "source": [
        "#Preparing data and parameters for bar graph\n",
        "data2=[cse['CodeKata Score'].max(),ee['CodeKata Score'].max(),ec['CodeKata Score'].max()]\n",
        "bar=pd.DataFrame({'Department':labels,'Top Scores':data})"
      ],
      "execution_count": 0,
      "outputs": []
    },
    {
      "cell_type": "code",
      "metadata": {
        "id": "UJ4MsfRaCezt",
        "colab_type": "code",
        "colab": {
          "base_uri": "https://localhost:8080/",
          "height": 508
        },
        "outputId": "78753828-edd8-4b97-8a23-edb23f27cb77"
      },
      "source": [
        "#printing bar graphs\n",
        "bar.plot.bar(x='Department',y='Top Scores')"
      ],
      "execution_count": 44,
      "outputs": [
        {
          "output_type": "execute_result",
          "data": {
            "text/plain": [
              "<matplotlib.axes._subplots.AxesSubplot at 0x7fcefa16a128>"
            ]
          },
          "metadata": {
            "tags": []
          },
          "execution_count": 44
        },
        {
          "output_type": "display_data",
          "data": {
            "image/png": "[encoded data removed]",
            "text/plain": [
              "<Figure size 432x288 with 1 Axes>"
            ]
          },
          "metadata": {
            "tags": [],
            "needs_background": "light"
          }
        }
      ]
    }
  ]
}